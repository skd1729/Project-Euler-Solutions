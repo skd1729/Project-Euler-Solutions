{
 "cells": [
  {
   "cell_type": "markdown",
   "metadata": {},
   "source": [
    "You can find the problem statement here:https://projecteuler.net/problem=22"
   ]
  },
  {
   "cell_type": "code",
   "execution_count": 1,
   "metadata": {},
   "outputs": [],
   "source": [
    "with open(\"-path - p022_names.txt\") as names:\n",
    "    nam=names.read().split(',')"
   ]
  },
  {
   "cell_type": "markdown",
   "metadata": {},
   "source": [
    "Once the entire first names are read into a list, conversion into lower case and sorting is done\n",
    "The variables are initialized to calculate the sum later in the \"for loops\""
   ]
  },
  {
   "cell_type": "code",
   "execution_count": 2,
   "metadata": {},
   "outputs": [],
   "source": [
    "nam = [x.lower() for x in nam]\n",
    "nam.sort()\n",
    "F=0 \n",
    "t=0\n",
    "s=0"
   ]
  },
  {
   "cell_type": "code",
   "execution_count": 3,
   "metadata": {},
   "outputs": [],
   "source": [
    "alpha = [\"a\",\"b\",\"c\",\"d\",\"e\",\"f\",\"g\",\"h\",\"i\",\"j\",\"k\",\"l\",\"m\",\"n\",\"o\",\"p\",\"q\",\"r\",\"s\",\"t\",\"u\",\"v\",\"w\",\"x\",\"y\",\"z\"]"
   ]
  },
  {
   "cell_type": "markdown",
   "metadata": {},
   "source": [
    "The list \"alpha\" is ordered alphabetically.In the loop, each name is checked for the index of alpha.\n",
    "For example, if \"abc\" is the name - then the outer loop is to iter across names and the inner loop is to iter across the length of each name. In the inner loop, each character's index is found using the alpha list, which eventually gives out the number"
   ]
  },
  {
   "cell_type": "code",
   "execution_count": 4,
   "metadata": {},
   "outputs": [],
   "source": [
    "for x in range(len(nam)):\n",
    "    for y in range(1,len(nam[x])-1):\n",
    "        s=alpha.index(nam[x][y])+1\n",
    "        t=t+s\n",
    "    m=(nam.index(nam[x])+1)*t\n",
    "    F=F+m\n",
    "    t=0\n",
    "    m=0"
   ]
  },
  {
   "cell_type": "code",
   "execution_count": 5,
   "metadata": {},
   "outputs": [
    {
     "name": "stdout",
     "output_type": "stream",
     "text": [
      "871198282\n"
     ]
    }
   ],
   "source": [
    "print(F)"
   ]
  }
 ],
 "metadata": {
  "kernelspec": {
   "display_name": "Python 3",
   "language": "python",
   "name": "python3"
  },
  "language_info": {
   "codemirror_mode": {
    "name": "ipython",
    "version": 3
   },
   "file_extension": ".py",
   "mimetype": "text/x-python",
   "name": "python",
   "nbconvert_exporter": "python",
   "pygments_lexer": "ipython3",
   "version": "3.6.1"
  }
 },
 "nbformat": 4,
 "nbformat_minor": 2
}
